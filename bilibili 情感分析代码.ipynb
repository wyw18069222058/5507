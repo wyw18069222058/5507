{
 "cells": [
  {
   "cell_type": "code",
   "execution_count": 103,
   "id": "4ae6308a",
   "metadata": {},
   "outputs": [],
   "source": [
    "import csv\n",
    "import xlwt\n",
    "from snownlp import SnowNLP"
   ]
  },
  {
   "cell_type": "code",
   "execution_count": 104,
   "id": "b96638c0",
   "metadata": {},
   "outputs": [
    {
     "name": "stdout",
     "output_type": "stream",
     "text": [
      "['六只羊sheep', ' 林一离离离1', '六只羊sheep', '二十曰', 'AI视频小助理', '爱唱歌的奥利奥', '唉呀哇', '原住民感恩美利坚', '是一个小美人鹅啦', '他们叫我阿球', '夂祉', '狗狗啊啊', 'bili_70329896256', '小圓子姐姐', '胖胖的宝贝妈妈', '一颗青松吖吖', '为了天丛云剑', 'A-残月w卯兔-Z', '一小阿拉啦', '黑皮猪YY', '阳光海浪摊', '#NAME?', '#NAME?', '串串真的香', 'w雨沫', 'Joey可儿', '冼金花', '子非鱼haha', '冰绝邪', '博望人小王', 'StephanieAmoy', '打瞌睡', '都忘记', '侧开塑料柜', '朋克几个', '学的就是快', '自己方可上岗', '电竞少女', '宝贝上课', '不计算了', 'eig', '啊肯德基', '断空我覅', '东江湖', '夜黑粉', '抵扣时间', '阿克苏甲方', '衬四氟', '搜我忘记逆风局']\n"
     ]
    }
   ],
   "source": [
    "with open('芋头红豆沙总.csv','r') as csvfile:\n",
    "    reader = csv.DictReader(csvfile)\n",
    "    unames_list = [row['评论作者'] for row in reader]\n",
    "print( unames_list)"
   ]
  },
  {
   "cell_type": "code",
   "execution_count": 105,
   "id": "6e85fc5b",
   "metadata": {},
   "outputs": [
    {
     "name": "stdout",
     "output_type": "stream",
     "text": [
      "['可以换换bgm，之前的那个噔噔噔就挺不错的', '背景音乐都快听吐了', '这个背景音乐太压抑了', 'rose妈妈什么时候能来呀 好想看', '本视频讲述了一个人和他的表嫂在田间挖芋头、煮红豆和炖鱼的过程，以及他们一起享用晚餐和甜点的场景。表嫂在整个过程中起到了重要的作用，为挖芋头准备了许多，还留了许多红豆和豆沙做甜点。最后，他们一起品尝美食，享受生活。--以上内容由模型基于视频内容生成，仅供参考', '哇这个芋头好像滴水观音啊', '哇，刀功好棒！芋头可以炒丝竟然！只吃过糯糯的煮的[笑哭]', '天冷了 碳水是最舒服的 肉丝加油[打call]', '我也好想吃红豆芋头，看着好吃', '我们这有椒盐芋头丝  特别好吃', '妈妈什么时候能来中国', '哇，这个红豆芋头我流口水[星星眼]', '芋头我是一直都吃不来，应该是没吃到做的好吃的', '真的很執著要用這首歌當BGM ～聽得好膩[doge]', '此时此刻安仔就是充话费送的[呲牙][呲牙][呲牙]', '头发盘起来也好好看', '刚刚好你好厉害，把我给齁到了哈好幸福的感觉', '芋头还得是炖肉[星星眼]', '这个肯定很好吃[星星眼][星星眼]', '为什么我煮的红豆不烂呢', '这个芋头叶子都还没黄，还不能挖', '我想看安仔@Rose-中国', 'rose，咱妈什么时候来中国@Rose-中国', '[星星眼][星星眼][星星眼][星星眼]', '这个编的辫子怎么洗头好好奇', '这个头发，，，，，不脏？', '第一[打call]', '建议换发型和音乐', '头发不洗吗？', '啊想吃', 'Rose可以说说吗？咋洗头？', '这个头发好神奇', '我真的很喜欢吃芋头', '自己做的好健康', '讨厌这个背景音乐', 'rose什么都会做', '哇！听起来就很好吃', '芋泥是无敌的！', '这个头发看起来有点脏', '我也要去试试', '好好吃', '这个辫子怎么编的？', '很幸福的一家', '安仔什么时候出来？', '感觉rose有点累了', '我也想吃', '加油加油', '这音乐挺好的啊 不懂评论区为什么一直说', 'rose按照自己的想法做吧！']\n"
     ]
    }
   ],
   "source": [
    "with open('芋头红豆沙总.csv','r') as csvfile:\n",
    "    reader = csv.DictReader(csvfile)\n",
    "    messages_list = [row['评论内容'] for row in reader]\n",
    "print( messages_list)"
   ]
  },
  {
   "cell_type": "code",
   "execution_count": 106,
   "id": "4013425f",
   "metadata": {},
   "outputs": [],
   "source": [
    "def emotional(messages_list,unames_list):\n",
    "    workbook=xlwt.Workbook(encoding='utf-8')\n",
    "    worksheet=workbook.add_sheet('sheet_000001',cell_overwrite_ok=True)\n",
    "    worksheet.write(0,0,'用户名')\n",
    "    worksheet.write(0,1,'评论内容')\n",
    "    worksheet.write(0,1,'情感得分')\n",
    "    worksheet.write(0,3,'分析结果')\n",
    "    pos_count=0\n",
    "    neg_count=0\n",
    "    neu_count=0\n",
    "    for i in range(len(messages_list)):\n",
    "        name=unames_list[i]\n",
    "        message=messages_list[i]\n",
    "\n",
    "        sentiments_score=SnowNLP(message).sentiments\n",
    "        if sentiments_score<0.4:\n",
    "            tag='消极'\n",
    "            neg_count+=1\n",
    "        elif sentiments_score>0.6:\n",
    "            tag='积极'\n",
    "            pos_count+=1\n",
    "        else \n",
    "            tag='中立'\n",
    "            neu_count+=1\n",
    "            \n",
    "        \n",
    "        worksheet.write(i+1,0,name)\n",
    "        worksheet.write(i+1,1,message)\n",
    "        worksheet.write(i+1,2,sentiments_score)\n",
    "        worksheet.write(i+1,3,tag)\n",
    "    workbook.save('芋头红豆沙总nlp分析.xls')"
   ]
  },
  {
   "cell_type": "code",
   "execution_count": 107,
   "id": "9897e6a9",
   "metadata": {},
   "outputs": [],
   "source": [
    "emotional(messages_list,unames_list)"
   ]
  },
  {
   "cell_type": "code",
   "execution_count": null,
   "id": "11cfcda6",
   "metadata": {},
   "outputs": [],
   "source": []
  }
 ],
 "metadata": {
  "kernelspec": {
   "display_name": "Python 3 (ipykernel)",
   "language": "python",
   "name": "python3"
  },
  "language_info": {
   "codemirror_mode": {
    "name": "ipython",
    "version": 3
   },
   "file_extension": ".py",
   "mimetype": "text/x-python",
   "name": "python",
   "nbconvert_exporter": "python",
   "pygments_lexer": "ipython3",
   "version": "3.11.4"
  }
 },
 "nbformat": 4,
 "nbformat_minor": 5
}
