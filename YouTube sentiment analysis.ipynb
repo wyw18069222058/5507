{
 "cells": [
  {
   "cell_type": "code",
   "execution_count": 10,
   "id": "57e1d76a",
   "metadata": {},
   "outputs": [],
   "source": [
    "import nltk"
   ]
  },
  {
   "cell_type": "code",
   "execution_count": 11,
   "id": "b84cd1e7",
   "metadata": {},
   "outputs": [
    {
     "name": "stderr",
     "output_type": "stream",
     "text": [
      "[nltk_data] Downloading package vader_lexicon to\n",
      "[nltk_data]     C:\\Users\\asus\\AppData\\Roaming\\nltk_data...\n"
     ]
    }
   ],
   "source": [
    "nltk.download('vader_lexicon')\n",
    "from nltk.sentiment.vader import SentimentIntensityAnalyzer as SIA\n",
    "import pandas as pd"
   ]
  },
  {
   "cell_type": "code",
   "execution_count": 19,
   "id": "8a1d0210",
   "metadata": {},
   "outputs": [
    {
     "name": "stdout",
     "output_type": "stream",
     "text": [
      "<bound method NDFrame.head of                                                  text\n",
      "0   amazingly, my mother is now turned off meat co...\n",
      "1   Typical of the chinese to be discourteous and ...\n",
      "2   For me I also dont like if someone is filming ...\n",
      "3       You no eat Doggy and Kitty Cat ? YOU GO NOW!!\n",
      "4   For everyone who wants to travel to china (not...\n",
      "5   Typically restaurants are for people who want ...\n",
      "6   FAT IS NOT BAD FOR YOU !!!! BURNT fat is bad f...\n",
      "7   You can come to Vietnam and film as long as yo...\n",
      "8                                     Love these gals\n",
      "9   I find that portions are large in most Chinese...\n",
      "10  I have had very odd customers come to me and a...\n",
      "11  It seems the girls were expecting or inviting ...\n",
      "12  Maybe the world is getting sick of entitled Yo...\n",
      "13                     Does Jasmin have a boyfriend ?\n",
      "14  I dona??t understand so many hateful comments....>\n"
     ]
    }
   ],
   "source": [
    "df = pd.read_csv('data.csv')\n",
    "print(df.head)"
   ]
  },
  {
   "cell_type": "code",
   "execution_count": 21,
   "id": "487fc8a0",
   "metadata": {},
   "outputs": [
    {
     "name": "stdout",
     "output_type": "stream",
     "text": [
      "3\n",
      "7\n",
      "5\n"
     ]
    }
   ],
   "source": [
    "analyzer = SIA()\n",
    "df['compound'] = [analyzer.polarity_scores(x)['compound'] for x in df['text']]\n",
    "df['negative'] = [analyzer.polarity_scores(x)['neg'] for x in df['text']]\n",
    "df['neutral'] = [analyzer.polarity_scores(x)['neu']for x in df['text']]\n",
    "df['positive'] = [analyzer.polarity_scores(x)['pos']for x in df['text']]\n",
    "\n",
    "df['sentiment']='neutral'\n",
    "df.loc[df.compound>0.05,'sentiment']='positive'\n",
    "df.loc[df.compound<-0.05,'sentiment']='negative'\n",
    "df.head()\n",
    "\n",
    "print(df['sentiment'].value_counts()['neutral'])\n",
    "print(df['sentiment'].value_counts()['positive'])\n",
    "print(df['sentiment'].value_counts()['negative'])\n",
    "\n",
    "df.to_csv(f'sentiments.csv',index=False)"
   ]
  },
  {
   "cell_type": "code",
   "execution_count": null,
   "id": "fdd3f2b5",
   "metadata": {},
   "outputs": [],
   "source": []
  }
 ],
 "metadata": {
  "kernelspec": {
   "display_name": "Python 3 (ipykernel)",
   "language": "python",
   "name": "python3"
  },
  "language_info": {
   "codemirror_mode": {
    "name": "ipython",
    "version": 3
   },
   "file_extension": ".py",
   "mimetype": "text/x-python",
   "name": "python",
   "nbconvert_exporter": "python",
   "pygments_lexer": "ipython3",
   "version": "3.11.4"
  }
 },
 "nbformat": 4,
 "nbformat_minor": 5
}
